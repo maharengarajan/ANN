{
  "nbformat": 4,
  "nbformat_minor": 0,
  "metadata": {
    "colab": {
      "provenance": []
    },
    "kernelspec": {
      "name": "python3",
      "display_name": "Python 3"
    },
    "language_info": {
      "name": "python"
    }
  },
  "cells": [
    {
      "cell_type": "code",
      "execution_count": 1,
      "metadata": {
        "id": "JfivoW-yxyG9"
      },
      "outputs": [],
      "source": [
        "#import necessary libraries\n",
        "import pandas as pd\n",
        "import numpy as np\n",
        "import matplotlib.pyplot as plt\n",
        "import tensorflow as tf\n",
        "import seaborn as sns"
      ]
    },
    {
      "cell_type": "code",
      "source": [
        "#get dataset\n",
        "mnist = tf.keras.datasets.mnist"
      ],
      "metadata": {
        "id": "dyZ_JuGyyWn8"
      },
      "execution_count": 4,
      "outputs": []
    },
    {
      "cell_type": "code",
      "source": [
        "#load dataset\n",
        "(X_train_full, y_train_full), (X_test, y_test) = mnist.load_data()"
      ],
      "metadata": {
        "id": "Cp39h53dyp6O"
      },
      "execution_count": 18,
      "outputs": []
    },
    {
      "cell_type": "code",
      "source": [
        "X_train_full.shape"
      ],
      "metadata": {
        "colab": {
          "base_uri": "https://localhost:8080/"
        },
        "id": "e12v_Zv4y5Fz",
        "outputId": "e16b11af-bbae-4a11-dcff-e2746ce12c82"
      },
      "execution_count": 19,
      "outputs": [
        {
          "output_type": "execute_result",
          "data": {
            "text/plain": [
              "(60000, 28, 28)"
            ]
          },
          "metadata": {},
          "execution_count": 19
        }
      ]
    },
    {
      "cell_type": "code",
      "source": [
        "y_train_full.shape"
      ],
      "metadata": {
        "colab": {
          "base_uri": "https://localhost:8080/"
        },
        "id": "iUJzujrCzn1x",
        "outputId": "2413448d-a0c0-4a0f-a00c-95787ecd24b7"
      },
      "execution_count": 20,
      "outputs": [
        {
          "output_type": "execute_result",
          "data": {
            "text/plain": [
              "(60000,)"
            ]
          },
          "metadata": {},
          "execution_count": 20
        }
      ]
    },
    {
      "cell_type": "code",
      "source": [
        "X_test.shape"
      ],
      "metadata": {
        "colab": {
          "base_uri": "https://localhost:8080/"
        },
        "id": "dFArtnSZz_R6",
        "outputId": "3e212685-53d2-4b5b-8394-c74c9dbcaf23"
      },
      "execution_count": 21,
      "outputs": [
        {
          "output_type": "execute_result",
          "data": {
            "text/plain": [
              "(10000, 28, 28)"
            ]
          },
          "metadata": {},
          "execution_count": 21
        }
      ]
    },
    {
      "cell_type": "code",
      "source": [
        "y_test.shape"
      ],
      "metadata": {
        "colab": {
          "base_uri": "https://localhost:8080/"
        },
        "id": "xefZ_yQz0DAI",
        "outputId": "1da777b9-fa76-4d05-f165-7d863d9674cf"
      },
      "execution_count": 22,
      "outputs": [
        {
          "output_type": "execute_result",
          "data": {
            "text/plain": [
              "(10000,)"
            ]
          },
          "metadata": {},
          "execution_count": 22
        }
      ]
    },
    {
      "cell_type": "code",
      "source": [
        "img = X_train_full[0]\n",
        "img"
      ],
      "metadata": {
        "colab": {
          "base_uri": "https://localhost:8080/"
        },
        "id": "V7VfPq1y0FxO",
        "outputId": "1e52f7f1-4ea9-4c3c-90bb-898d8de1f41f"
      },
      "execution_count": 23,
      "outputs": [
        {
          "output_type": "execute_result",
          "data": {
            "text/plain": [
              "array([[  0,   0,   0,   0,   0,   0,   0,   0,   0,   0,   0,   0,   0,\n",
              "          0,   0,   0,   0,   0,   0,   0,   0,   0,   0,   0,   0,   0,\n",
              "          0,   0],\n",
              "       [  0,   0,   0,   0,   0,   0,   0,   0,   0,   0,   0,   0,   0,\n",
              "          0,   0,   0,   0,   0,   0,   0,   0,   0,   0,   0,   0,   0,\n",
              "          0,   0],\n",
              "       [  0,   0,   0,   0,   0,   0,   0,   0,   0,   0,   0,   0,   0,\n",
              "          0,   0,   0,   0,   0,   0,   0,   0,   0,   0,   0,   0,   0,\n",
              "          0,   0],\n",
              "       [  0,   0,   0,   0,   0,   0,   0,   0,   0,   0,   0,   0,   0,\n",
              "          0,   0,   0,   0,   0,   0,   0,   0,   0,   0,   0,   0,   0,\n",
              "          0,   0],\n",
              "       [  0,   0,   0,   0,   0,   0,   0,   0,   0,   0,   0,   0,   0,\n",
              "          0,   0,   0,   0,   0,   0,   0,   0,   0,   0,   0,   0,   0,\n",
              "          0,   0],\n",
              "       [  0,   0,   0,   0,   0,   0,   0,   0,   0,   0,   0,   0,   3,\n",
              "         18,  18,  18, 126, 136, 175,  26, 166, 255, 247, 127,   0,   0,\n",
              "          0,   0],\n",
              "       [  0,   0,   0,   0,   0,   0,   0,   0,  30,  36,  94, 154, 170,\n",
              "        253, 253, 253, 253, 253, 225, 172, 253, 242, 195,  64,   0,   0,\n",
              "          0,   0],\n",
              "       [  0,   0,   0,   0,   0,   0,   0,  49, 238, 253, 253, 253, 253,\n",
              "        253, 253, 253, 253, 251,  93,  82,  82,  56,  39,   0,   0,   0,\n",
              "          0,   0],\n",
              "       [  0,   0,   0,   0,   0,   0,   0,  18, 219, 253, 253, 253, 253,\n",
              "        253, 198, 182, 247, 241,   0,   0,   0,   0,   0,   0,   0,   0,\n",
              "          0,   0],\n",
              "       [  0,   0,   0,   0,   0,   0,   0,   0,  80, 156, 107, 253, 253,\n",
              "        205,  11,   0,  43, 154,   0,   0,   0,   0,   0,   0,   0,   0,\n",
              "          0,   0],\n",
              "       [  0,   0,   0,   0,   0,   0,   0,   0,   0,  14,   1, 154, 253,\n",
              "         90,   0,   0,   0,   0,   0,   0,   0,   0,   0,   0,   0,   0,\n",
              "          0,   0],\n",
              "       [  0,   0,   0,   0,   0,   0,   0,   0,   0,   0,   0, 139, 253,\n",
              "        190,   2,   0,   0,   0,   0,   0,   0,   0,   0,   0,   0,   0,\n",
              "          0,   0],\n",
              "       [  0,   0,   0,   0,   0,   0,   0,   0,   0,   0,   0,  11, 190,\n",
              "        253,  70,   0,   0,   0,   0,   0,   0,   0,   0,   0,   0,   0,\n",
              "          0,   0],\n",
              "       [  0,   0,   0,   0,   0,   0,   0,   0,   0,   0,   0,   0,  35,\n",
              "        241, 225, 160, 108,   1,   0,   0,   0,   0,   0,   0,   0,   0,\n",
              "          0,   0],\n",
              "       [  0,   0,   0,   0,   0,   0,   0,   0,   0,   0,   0,   0,   0,\n",
              "         81, 240, 253, 253, 119,  25,   0,   0,   0,   0,   0,   0,   0,\n",
              "          0,   0],\n",
              "       [  0,   0,   0,   0,   0,   0,   0,   0,   0,   0,   0,   0,   0,\n",
              "          0,  45, 186, 253, 253, 150,  27,   0,   0,   0,   0,   0,   0,\n",
              "          0,   0],\n",
              "       [  0,   0,   0,   0,   0,   0,   0,   0,   0,   0,   0,   0,   0,\n",
              "          0,   0,  16,  93, 252, 253, 187,   0,   0,   0,   0,   0,   0,\n",
              "          0,   0],\n",
              "       [  0,   0,   0,   0,   0,   0,   0,   0,   0,   0,   0,   0,   0,\n",
              "          0,   0,   0,   0, 249, 253, 249,  64,   0,   0,   0,   0,   0,\n",
              "          0,   0],\n",
              "       [  0,   0,   0,   0,   0,   0,   0,   0,   0,   0,   0,   0,   0,\n",
              "          0,  46, 130, 183, 253, 253, 207,   2,   0,   0,   0,   0,   0,\n",
              "          0,   0],\n",
              "       [  0,   0,   0,   0,   0,   0,   0,   0,   0,   0,   0,   0,  39,\n",
              "        148, 229, 253, 253, 253, 250, 182,   0,   0,   0,   0,   0,   0,\n",
              "          0,   0],\n",
              "       [  0,   0,   0,   0,   0,   0,   0,   0,   0,   0,  24, 114, 221,\n",
              "        253, 253, 253, 253, 201,  78,   0,   0,   0,   0,   0,   0,   0,\n",
              "          0,   0],\n",
              "       [  0,   0,   0,   0,   0,   0,   0,   0,  23,  66, 213, 253, 253,\n",
              "        253, 253, 198,  81,   2,   0,   0,   0,   0,   0,   0,   0,   0,\n",
              "          0,   0],\n",
              "       [  0,   0,   0,   0,   0,   0,  18, 171, 219, 253, 253, 253, 253,\n",
              "        195,  80,   9,   0,   0,   0,   0,   0,   0,   0,   0,   0,   0,\n",
              "          0,   0],\n",
              "       [  0,   0,   0,   0,  55, 172, 226, 253, 253, 253, 253, 244, 133,\n",
              "         11,   0,   0,   0,   0,   0,   0,   0,   0,   0,   0,   0,   0,\n",
              "          0,   0],\n",
              "       [  0,   0,   0,   0, 136, 253, 253, 253, 212, 135, 132,  16,   0,\n",
              "          0,   0,   0,   0,   0,   0,   0,   0,   0,   0,   0,   0,   0,\n",
              "          0,   0],\n",
              "       [  0,   0,   0,   0,   0,   0,   0,   0,   0,   0,   0,   0,   0,\n",
              "          0,   0,   0,   0,   0,   0,   0,   0,   0,   0,   0,   0,   0,\n",
              "          0,   0],\n",
              "       [  0,   0,   0,   0,   0,   0,   0,   0,   0,   0,   0,   0,   0,\n",
              "          0,   0,   0,   0,   0,   0,   0,   0,   0,   0,   0,   0,   0,\n",
              "          0,   0],\n",
              "       [  0,   0,   0,   0,   0,   0,   0,   0,   0,   0,   0,   0,   0,\n",
              "          0,   0,   0,   0,   0,   0,   0,   0,   0,   0,   0,   0,   0,\n",
              "          0,   0]], dtype=uint8)"
            ]
          },
          "metadata": {},
          "execution_count": 23
        }
      ]
    },
    {
      "cell_type": "code",
      "source": [
        "plt.imshow(img, cmap='binary')"
      ],
      "metadata": {
        "colab": {
          "base_uri": "https://localhost:8080/",
          "height": 447
        },
        "id": "tTmsNgSK1n-K",
        "outputId": "f2fb3587-fae6-4491-b661-3f87f24632db"
      },
      "execution_count": 24,
      "outputs": [
        {
          "output_type": "execute_result",
          "data": {
            "text/plain": [
              "<matplotlib.image.AxesImage at 0x78e1e3a26b00>"
            ]
          },
          "metadata": {},
          "execution_count": 24
        },
        {
          "output_type": "display_data",
          "data": {
            "text/plain": [
              "<Figure size 640x480 with 1 Axes>"
            ],
            "image/png": "[encoded data removed]"
          },
          "metadata": {}
        }
      ]
    },
    {
      "cell_type": "code",
      "source": [
        "y_train[0]"
      ],
      "metadata": {
        "colab": {
          "base_uri": "https://localhost:8080/"
        },
        "id": "RodODCVy1yDw",
        "outputId": "551a7b75-9b21-48a8-bc68-23e2286ebb72"
      },
      "execution_count": 14,
      "outputs": [
        {
          "output_type": "execute_result",
          "data": {
            "text/plain": [
              "5"
            ]
          },
          "metadata": {},
          "execution_count": 14
        }
      ]
    },
    {
      "cell_type": "code",
      "source": [
        "plt.figure(figsize=(20,20))\n",
        "sns.heatmap(img,cmap='binary',annot=True)  #value ranges between 0 to 255"
      ],
      "metadata": {
        "colab": {
          "base_uri": "https://localhost:8080/",
          "height": 1000
        },
        "id": "hTTC6WBR1-zj",
        "outputId": "a56e6f77-bf5e-4338-8677-143f83187cb9"
      },
      "execution_count": 25,
      "outputs": [
        {
          "output_type": "execute_result",
          "data": {
            "text/plain": [
              "<Axes: >"
            ]
          },
          "metadata": {},
          "execution_count": 25
        },
        {
          "output_type": "display_data",
          "data": {
            "text/plain": [
              "<Figure size 2000x2000 with 2 Axes>"
            ],
            "image/png": "[encoded data removed]"
          },
          "metadata": {}
        }
      ]
    },
    {
      "cell_type": "code",
      "source": [
        "#splitting validatation data & divided by 255 for scale down value ranges betwwen 0 to 255\n",
        "X_valid, X_train = X_train_full[:5000]/255, X_train_full[5000:]/255\n",
        "y_valid, y_train = y_train_full[:5000], y_train_full[5000:]\n",
        "\n",
        "X_test = X_test/255"
      ],
      "metadata": {
        "id": "l_QB69zF2xPy"
      },
      "execution_count": 26,
      "outputs": []
    },
    {
      "cell_type": "code",
      "source": [
        "np.unique(y_train)"
      ],
      "metadata": {
        "colab": {
          "base_uri": "https://localhost:8080/"
        },
        "id": "J-01oTBk7Pjd",
        "outputId": "34c4fb3f-c786-4da7-e25e-d792b20271bf"
      },
      "execution_count": 27,
      "outputs": [
        {
          "output_type": "execute_result",
          "data": {
            "text/plain": [
              "array([0, 1, 2, 3, 4, 5, 6, 7, 8, 9], dtype=uint8)"
            ]
          },
          "metadata": {},
          "execution_count": 27
        }
      ]
    },
    {
      "cell_type": "code",
      "source": [
        "#to find totaly how many classes present\n",
        "len(np.unique(y_train))"
      ],
      "metadata": {
        "colab": {
          "base_uri": "https://localhost:8080/"
        },
        "id": "B_YxvP3b7cMA",
        "outputId": "5967f3bb-5884-4725-e503-e77f5bf010a9"
      },
      "execution_count": 28,
      "outputs": [
        {
          "output_type": "execute_result",
          "data": {
            "text/plain": [
              "10"
            ]
          },
          "metadata": {},
          "execution_count": 28
        }
      ]
    },
    {
      "cell_type": "code",
      "source": [
        "classes = len(np.unique(y_train))\n",
        "classes"
      ],
      "metadata": {
        "colab": {
          "base_uri": "https://localhost:8080/"
        },
        "id": "t3YBIOea7m51",
        "outputId": "ab7761b7-64c3-40bd-e34a-c24546a89700"
      },
      "execution_count": 30,
      "outputs": [
        {
          "output_type": "execute_result",
          "data": {
            "text/plain": [
              "10"
            ]
          },
          "metadata": {},
          "execution_count": 30
        }
      ]
    },
    {
      "cell_type": "code",
      "source": [
        "layers = [\n",
        "    tf.keras.layers.Flatten(input_shape=(28,28), name='inputLayer'),\n",
        "    tf.keras.layers.Dense(300, activation='relu', name='hiddenLayer01'),\n",
        "    tf.keras.layers.Dense(100, activation='relu', name='hiddenLayer02'),\n",
        "    tf.keras.layers.Dense(classes, activation='softmax', name='outputLayer')\n",
        "]"
      ],
      "metadata": {
        "id": "PSUtwCb77vi5"
      },
      "execution_count": 31,
      "outputs": []
    },
    {
      "cell_type": "code",
      "source": [
        "model = tf.keras.models.Sequential(layers)"
      ],
      "metadata": {
        "id": "msVkVfROAE4p"
      },
      "execution_count": 32,
      "outputs": []
    },
    {
      "cell_type": "code",
      "source": [
        "model.summary()"
      ],
      "metadata": {
        "colab": {
          "base_uri": "https://localhost:8080/"
        },
        "id": "Q28L-q_RKb8l",
        "outputId": "97edab80-7395-4468-afc4-b655fd468ee0"
      },
      "execution_count": 33,
      "outputs": [
        {
          "output_type": "stream",
          "name": "stdout",
          "text": [
            "Model: \"sequential\"\n",
            "_________________________________________________________________\n",
            " Layer (type)                Output Shape              Param #   \n",
            "=================================================================\n",
            " inputLayer (Flatten)        (None, 784)               0         \n",
            "                                                                 \n",
            " hiddenLayer01 (Dense)       (None, 300)               235500    \n",
            "                                                                 \n",
            " hiddenLayer02 (Dense)       (None, 100)               30100     \n",
            "                                                                 \n",
            " outputLayer (Dense)         (None, 10)                1010      \n",
            "                                                                 \n",
            "=================================================================\n",
            "Total params: 266610 (1.02 MB)\n",
            "Trainable params: 266610 (1.02 MB)\n",
            "Non-trainable params: 0 (0.00 Byte)\n",
            "_________________________________________________________________\n"
          ]
        }
      ]
    },
    {
      "cell_type": "code",
      "source": [
        "#hiddenlayer1 235500trainable parameter\n",
        "#(input*weight)+bias\n",
        "(784*300)+300"
      ],
      "metadata": {
        "colab": {
          "base_uri": "https://localhost:8080/"
        },
        "id": "JUeItutRKdmj",
        "outputId": "a60ddaac-8c76-4b34-9210-33ab2c71df9d"
      },
      "execution_count": 35,
      "outputs": [
        {
          "output_type": "execute_result",
          "data": {
            "text/plain": [
              "235500"
            ]
          },
          "metadata": {},
          "execution_count": 35
        }
      ]
    },
    {
      "cell_type": "code",
      "source": [
        "#hiddenlayer2 trainable parameter\n",
        "#(input*weight)+bias\n",
        "(300*100)+100"
      ],
      "metadata": {
        "colab": {
          "base_uri": "https://localhost:8080/"
        },
        "id": "ao3NFNm6LH4Y",
        "outputId": "ded79de1-2280-4d26-c8a7-f11f59f6240f"
      },
      "execution_count": 37,
      "outputs": [
        {
          "output_type": "execute_result",
          "data": {
            "text/plain": [
              "30100"
            ]
          },
          "metadata": {},
          "execution_count": 37
        }
      ]
    },
    {
      "cell_type": "code",
      "source": [
        "#output trainable parameter\n",
        "#(input*weight)+bias\n",
        "(100*10)+10"
      ],
      "metadata": {
        "colab": {
          "base_uri": "https://localhost:8080/"
        },
        "id": "AxECUev-LoEN",
        "outputId": "0b644eb1-8830-4397-855a-d2ce7fa2a75c"
      },
      "execution_count": 38,
      "outputs": [
        {
          "output_type": "execute_result",
          "data": {
            "text/plain": [
              "1010"
            ]
          },
          "metadata": {},
          "execution_count": 38
        }
      ]
    },
    {
      "cell_type": "code",
      "source": [
        "#total trainable parameter\n",
        "235500+30100+1010"
      ],
      "metadata": {
        "colab": {
          "base_uri": "https://localhost:8080/"
        },
        "id": "oxxNcHhhLyzA",
        "outputId": "9760f5f3-d114-4557-b543-632d93d7e656"
      },
      "execution_count": 39,
      "outputs": [
        {
          "output_type": "execute_result",
          "data": {
            "text/plain": [
              "266610"
            ]
          },
          "metadata": {},
          "execution_count": 39
        }
      ]
    },
    {
      "cell_type": "code",
      "source": [
        "LOSS_FUNCTION = 'SparseCategoricalCrossentropy'\n",
        "OPTIMIZER = 'SGD'\n",
        "METRICS = ['accuracy']\n",
        "\n",
        "model.compile(loss=LOSS_FUNCTION, optimizer=OPTIMIZER, metrics=METRICS)"
      ],
      "metadata": {
        "id": "waVXxC4jL7xl"
      },
      "execution_count": 40,
      "outputs": []
    },
    {
      "cell_type": "code",
      "source": [
        "EPOCHS = 30\n",
        "VALIDATION = (X_valid, y_valid)\n",
        "\n",
        "history = model.fit(X_train,y_train,epochs=EPOCHS,validation_data=VALIDATION)"
      ],
      "metadata": {
        "colab": {
          "base_uri": "https://localhost:8080/"
        },
        "id": "08ljeUkKNj0n",
        "outputId": "66053483-02e6-4864-fe29-cd82ffcde921"
      },
      "execution_count": 41,
      "outputs": [
        {
          "output_type": "stream",
          "name": "stdout",
          "text": [
            "Epoch 1/30\n",
            "1719/1719 [==============================] - 10s 5ms/step - loss: 0.6019 - accuracy: 0.8435 - val_loss: 0.3106 - val_accuracy: 0.9132\n",
            "Epoch 2/30\n",
            "1719/1719 [==============================] - 8s 5ms/step - loss: 0.2872 - accuracy: 0.9179 - val_loss: 0.2432 - val_accuracy: 0.9306\n",
            "Epoch 3/30\n",
            "1719/1719 [==============================] - 7s 4ms/step - loss: 0.2341 - accuracy: 0.9335 - val_loss: 0.2029 - val_accuracy: 0.9438\n",
            "Epoch 4/30\n",
            "1719/1719 [==============================] - 6s 4ms/step - loss: 0.1999 - accuracy: 0.9424 - val_loss: 0.1764 - val_accuracy: 0.9524\n",
            "Epoch 5/30\n",
            "1719/1719 [==============================] - 7s 4ms/step - loss: 0.1741 - accuracy: 0.9507 - val_loss: 0.1596 - val_accuracy: 0.9564\n",
            "Epoch 6/30\n",
            "1719/1719 [==============================] - 7s 4ms/step - loss: 0.1540 - accuracy: 0.9564 - val_loss: 0.1438 - val_accuracy: 0.9618\n",
            "Epoch 7/30\n",
            "1719/1719 [==============================] - 8s 4ms/step - loss: 0.1385 - accuracy: 0.9603 - val_loss: 0.1336 - val_accuracy: 0.9634\n",
            "Epoch 8/30\n",
            "1719/1719 [==============================] - 6s 4ms/step - loss: 0.1251 - accuracy: 0.9640 - val_loss: 0.1223 - val_accuracy: 0.9652\n",
            "Epoch 9/30\n",
            "1719/1719 [==============================] - 8s 4ms/step - loss: 0.1140 - accuracy: 0.9679 - val_loss: 0.1169 - val_accuracy: 0.9682\n",
            "Epoch 10/30\n",
            "1719/1719 [==============================] - 7s 4ms/step - loss: 0.1044 - accuracy: 0.9703 - val_loss: 0.1085 - val_accuracy: 0.9686\n",
            "Epoch 11/30\n",
            "1719/1719 [==============================] - 8s 5ms/step - loss: 0.0961 - accuracy: 0.9723 - val_loss: 0.1076 - val_accuracy: 0.9708\n",
            "Epoch 12/30\n",
            "1719/1719 [==============================] - 8s 5ms/step - loss: 0.0889 - accuracy: 0.9748 - val_loss: 0.1019 - val_accuracy: 0.9714\n",
            "Epoch 13/30\n",
            "1719/1719 [==============================] - 7s 4ms/step - loss: 0.0823 - accuracy: 0.9772 - val_loss: 0.0960 - val_accuracy: 0.9744\n",
            "Epoch 14/30\n",
            "1719/1719 [==============================] - 9s 5ms/step - loss: 0.0765 - accuracy: 0.9784 - val_loss: 0.0908 - val_accuracy: 0.9746\n",
            "Epoch 15/30\n",
            "1719/1719 [==============================] - 7s 4ms/step - loss: 0.0712 - accuracy: 0.9799 - val_loss: 0.0892 - val_accuracy: 0.9758\n",
            "Epoch 16/30\n",
            "1719/1719 [==============================] - 11s 7ms/step - loss: 0.0663 - accuracy: 0.9818 - val_loss: 0.0850 - val_accuracy: 0.9760\n",
            "Epoch 17/30\n",
            "1719/1719 [==============================] - 11s 6ms/step - loss: 0.0620 - accuracy: 0.9829 - val_loss: 0.0830 - val_accuracy: 0.9764\n",
            "Epoch 18/30\n",
            "1719/1719 [==============================] - 9s 5ms/step - loss: 0.0580 - accuracy: 0.9842 - val_loss: 0.0809 - val_accuracy: 0.9752\n",
            "Epoch 19/30\n",
            "1719/1719 [==============================] - 13s 8ms/step - loss: 0.0543 - accuracy: 0.9852 - val_loss: 0.0800 - val_accuracy: 0.9774\n",
            "Epoch 20/30\n",
            "1719/1719 [==============================] - 11s 6ms/step - loss: 0.0510 - accuracy: 0.9865 - val_loss: 0.0785 - val_accuracy: 0.9784\n",
            "Epoch 21/30\n",
            "1719/1719 [==============================] - 7s 4ms/step - loss: 0.0481 - accuracy: 0.9871 - val_loss: 0.0749 - val_accuracy: 0.9776\n",
            "Epoch 22/30\n",
            "1719/1719 [==============================] - 14s 8ms/step - loss: 0.0448 - accuracy: 0.9883 - val_loss: 0.0729 - val_accuracy: 0.9778\n",
            "Epoch 23/30\n",
            "1719/1719 [==============================] - 15s 9ms/step - loss: 0.0424 - accuracy: 0.9892 - val_loss: 0.0749 - val_accuracy: 0.9784\n",
            "Epoch 24/30\n",
            "1719/1719 [==============================] - 8s 5ms/step - loss: 0.0398 - accuracy: 0.9898 - val_loss: 0.0723 - val_accuracy: 0.9784\n",
            "Epoch 25/30\n",
            "1719/1719 [==============================] - 8s 4ms/step - loss: 0.0373 - accuracy: 0.9908 - val_loss: 0.0714 - val_accuracy: 0.9790\n",
            "Epoch 26/30\n",
            "1719/1719 [==============================] - 7s 4ms/step - loss: 0.0354 - accuracy: 0.9914 - val_loss: 0.0699 - val_accuracy: 0.9792\n",
            "Epoch 27/30\n",
            "1719/1719 [==============================] - 8s 5ms/step - loss: 0.0333 - accuracy: 0.9921 - val_loss: 0.0720 - val_accuracy: 0.9784\n",
            "Epoch 28/30\n",
            "1719/1719 [==============================] - 7s 4ms/step - loss: 0.0314 - accuracy: 0.9929 - val_loss: 0.0699 - val_accuracy: 0.9794\n",
            "Epoch 29/30\n",
            "1719/1719 [==============================] - 8s 5ms/step - loss: 0.0297 - accuracy: 0.9931 - val_loss: 0.0705 - val_accuracy: 0.9782\n",
            "Epoch 30/30\n",
            "1719/1719 [==============================] - 7s 4ms/step - loss: 0.0281 - accuracy: 0.9939 - val_loss: 0.0684 - val_accuracy: 0.9788\n"
          ]
        }
      ]
    },
    {
      "cell_type": "code",
      "source": [
        "#default batch size 32, we can change it\n",
        "55000/32"
      ],
      "metadata": {
        "colab": {
          "base_uri": "https://localhost:8080/"
        },
        "id": "EeafkWlbPBMS",
        "outputId": "205163dc-2aba-4be9-d48e-31f663c9a737"
      },
      "execution_count": 42,
      "outputs": [
        {
          "output_type": "execute_result",
          "data": {
            "text/plain": [
              "1718.75"
            ]
          },
          "metadata": {},
          "execution_count": 42
        }
      ]
    },
    {
      "cell_type": "code",
      "source": [
        "EPOCHS = 30\n",
        "VALIDATION = (X_valid, y_valid)\n",
        "BATCH = 16\n",
        "\n",
        "history = model.fit(X_train,y_train,epochs=EPOCHS,validation_data=VALIDATION,batch_size=BATCH)"
      ],
      "metadata": {
        "colab": {
          "base_uri": "https://localhost:8080/"
        },
        "id": "2Ki-2G0mOiu1",
        "outputId": "3010f6cf-5197-43d2-b606-d3b7ee700d60"
      },
      "execution_count": 43,
      "outputs": [
        {
          "output_type": "stream",
          "name": "stdout",
          "text": [
            "Epoch 1/30\n",
            "3438/3438 [==============================] - 17s 5ms/step - loss: 0.0298 - accuracy: 0.9925 - val_loss: 0.0682 - val_accuracy: 0.9800\n",
            "Epoch 2/30\n",
            "3438/3438 [==============================] - 12s 4ms/step - loss: 0.0270 - accuracy: 0.9935 - val_loss: 0.0728 - val_accuracy: 0.9772\n",
            "Epoch 3/30\n",
            "3438/3438 [==============================] - 11s 3ms/step - loss: 0.0241 - accuracy: 0.9946 - val_loss: 0.0699 - val_accuracy: 0.9792\n",
            "Epoch 4/30\n",
            "3438/3438 [==============================] - 12s 3ms/step - loss: 0.0217 - accuracy: 0.9950 - val_loss: 0.0691 - val_accuracy: 0.9798\n",
            "Epoch 5/30\n",
            "3438/3438 [==============================] - 12s 4ms/step - loss: 0.0197 - accuracy: 0.9960 - val_loss: 0.0676 - val_accuracy: 0.9804\n",
            "Epoch 6/30\n",
            "3438/3438 [==============================] - 12s 4ms/step - loss: 0.0174 - accuracy: 0.9968 - val_loss: 0.0805 - val_accuracy: 0.9766\n",
            "Epoch 7/30\n",
            "3438/3438 [==============================] - 13s 4ms/step - loss: 0.0156 - accuracy: 0.9972 - val_loss: 0.0672 - val_accuracy: 0.9812\n",
            "Epoch 8/30\n",
            "3438/3438 [==============================] - 13s 4ms/step - loss: 0.0142 - accuracy: 0.9977 - val_loss: 0.0662 - val_accuracy: 0.9810\n",
            "Epoch 9/30\n",
            "3438/3438 [==============================] - 13s 4ms/step - loss: 0.0127 - accuracy: 0.9981 - val_loss: 0.0696 - val_accuracy: 0.9806\n",
            "Epoch 10/30\n",
            "3438/3438 [==============================] - 12s 4ms/step - loss: 0.0117 - accuracy: 0.9984 - val_loss: 0.0660 - val_accuracy: 0.9816\n",
            "Epoch 11/30\n",
            "3438/3438 [==============================] - 12s 3ms/step - loss: 0.0104 - accuracy: 0.9989 - val_loss: 0.0665 - val_accuracy: 0.9816\n",
            "Epoch 12/30\n",
            "3438/3438 [==============================] - 12s 4ms/step - loss: 0.0096 - accuracy: 0.9989 - val_loss: 0.0657 - val_accuracy: 0.9802\n",
            "Epoch 13/30\n",
            "3438/3438 [==============================] - 12s 3ms/step - loss: 0.0087 - accuracy: 0.9991 - val_loss: 0.0664 - val_accuracy: 0.9800\n",
            "Epoch 14/30\n",
            "3438/3438 [==============================] - 13s 4ms/step - loss: 0.0080 - accuracy: 0.9994 - val_loss: 0.0679 - val_accuracy: 0.9808\n",
            "Epoch 15/30\n",
            "3438/3438 [==============================] - 12s 4ms/step - loss: 0.0072 - accuracy: 0.9995 - val_loss: 0.0665 - val_accuracy: 0.9812\n",
            "Epoch 16/30\n",
            "3438/3438 [==============================] - 12s 4ms/step - loss: 0.0067 - accuracy: 0.9995 - val_loss: 0.0682 - val_accuracy: 0.9812\n",
            "Epoch 17/30\n",
            "3438/3438 [==============================] - 13s 4ms/step - loss: 0.0061 - accuracy: 0.9996 - val_loss: 0.0670 - val_accuracy: 0.9810\n",
            "Epoch 18/30\n",
            "3438/3438 [==============================] - 13s 4ms/step - loss: 0.0056 - accuracy: 0.9997 - val_loss: 0.0671 - val_accuracy: 0.9816\n",
            "Epoch 19/30\n",
            "3438/3438 [==============================] - 13s 4ms/step - loss: 0.0052 - accuracy: 0.9998 - val_loss: 0.0668 - val_accuracy: 0.9820\n",
            "Epoch 20/30\n",
            "3438/3438 [==============================] - 12s 4ms/step - loss: 0.0048 - accuracy: 0.9998 - val_loss: 0.0678 - val_accuracy: 0.9814\n",
            "Epoch 21/30\n",
            "3438/3438 [==============================] - 12s 4ms/step - loss: 0.0045 - accuracy: 0.9999 - val_loss: 0.0674 - val_accuracy: 0.9814\n",
            "Epoch 22/30\n",
            "3438/3438 [==============================] - 12s 4ms/step - loss: 0.0042 - accuracy: 0.9999 - val_loss: 0.0688 - val_accuracy: 0.9798\n",
            "Epoch 23/30\n",
            "3438/3438 [==============================] - 12s 4ms/step - loss: 0.0039 - accuracy: 0.9999 - val_loss: 0.0687 - val_accuracy: 0.9814\n",
            "Epoch 24/30\n",
            "3438/3438 [==============================] - 13s 4ms/step - loss: 0.0036 - accuracy: 0.9999 - val_loss: 0.0689 - val_accuracy: 0.9812\n",
            "Epoch 25/30\n",
            "3438/3438 [==============================] - 13s 4ms/step - loss: 0.0034 - accuracy: 0.9999 - val_loss: 0.0707 - val_accuracy: 0.9800\n",
            "Epoch 26/30\n",
            "3438/3438 [==============================] - 13s 4ms/step - loss: 0.0032 - accuracy: 1.0000 - val_loss: 0.0705 - val_accuracy: 0.9808\n",
            "Epoch 27/30\n",
            "3438/3438 [==============================] - 12s 4ms/step - loss: 0.0030 - accuracy: 0.9999 - val_loss: 0.0693 - val_accuracy: 0.9808\n",
            "Epoch 28/30\n",
            "3438/3438 [==============================] - 12s 4ms/step - loss: 0.0029 - accuracy: 1.0000 - val_loss: 0.0709 - val_accuracy: 0.9806\n",
            "Epoch 29/30\n",
            "3438/3438 [==============================] - 12s 4ms/step - loss: 0.0027 - accuracy: 1.0000 - val_loss: 0.0712 - val_accuracy: 0.9798\n",
            "Epoch 30/30\n",
            "3438/3438 [==============================] - 12s 4ms/step - loss: 0.0026 - accuracy: 1.0000 - val_loss: 0.0710 - val_accuracy: 0.9808\n"
          ]
        }
      ]
    },
    {
      "cell_type": "code",
      "source": [
        "history.history"
      ],
      "metadata": {
        "colab": {
          "base_uri": "https://localhost:8080/"
        },
        "id": "1K-BLM1WPwHw",
        "outputId": "e7c3c786-3c59-45fd-fcd4-d2b379ec810a"
      },
      "execution_count": 44,
      "outputs": [
        {
          "output_type": "execute_result",
          "data": {
            "text/plain": [
              "{'loss': [0.029836811125278473,\n",
              "  0.027043459936976433,\n",
              "  0.024146096780896187,\n",
              "  0.021655138581991196,\n",
              "  0.019690396264195442,\n",
              "  0.017402030527591705,\n",
              "  0.015605847351253033,\n",
              "  0.014191864989697933,\n",
              "  0.012674191035330296,\n",
              "  0.011722276918590069,\n",
              "  0.010399652644991875,\n",
              "  0.00963988434523344,\n",
              "  0.008708824403584003,\n",
              "  0.007987581193447113,\n",
              "  0.007227866444736719,\n",
              "  0.006741284858435392,\n",
              "  0.006133699323982,\n",
              "  0.005633724853396416,\n",
              "  0.005194478668272495,\n",
              "  0.004833281505852938,\n",
              "  0.004518465138971806,\n",
              "  0.00417323550209403,\n",
              "  0.003931813407689333,\n",
              "  0.00360938161611557,\n",
              "  0.0034376748371869326,\n",
              "  0.003239421406760812,\n",
              "  0.003048688406124711,\n",
              "  0.002870486816391349,\n",
              "  0.0027233350556343794,\n",
              "  0.0025973443407565355],\n",
              " 'accuracy': [0.9924727082252502,\n",
              "  0.9935454726219177,\n",
              "  0.9945818185806274,\n",
              "  0.9949818253517151,\n",
              "  0.9959818124771118,\n",
              "  0.9968000054359436,\n",
              "  0.9972181916236877,\n",
              "  0.9976727366447449,\n",
              "  0.998090922832489,\n",
              "  0.9983636140823364,\n",
              "  0.9988909363746643,\n",
              "  0.9989454746246338,\n",
              "  0.9991454482078552,\n",
              "  0.9993636608123779,\n",
              "  0.9994727373123169,\n",
              "  0.9995090961456299,\n",
              "  0.9996181726455688,\n",
              "  0.9996727108955383,\n",
              "  0.9997636079788208,\n",
              "  0.9998182058334351,\n",
              "  0.999854564666748,\n",
              "  0.9998727440834045,\n",
              "  0.999890923500061,\n",
              "  0.999927282333374,\n",
              "  0.999927282333374,\n",
              "  0.999963641166687,\n",
              "  0.999927282333374,\n",
              "  0.9999818205833435,\n",
              "  0.9999818205833435,\n",
              "  1.0],\n",
              " 'val_loss': [0.06824761629104614,\n",
              "  0.07284894585609436,\n",
              "  0.06990209221839905,\n",
              "  0.06910967081785202,\n",
              "  0.06758202612400055,\n",
              "  0.0805092379450798,\n",
              "  0.06717679649591446,\n",
              "  0.06616289168596268,\n",
              "  0.06959857046604156,\n",
              "  0.06601522862911224,\n",
              "  0.06646735966205597,\n",
              "  0.06571273505687714,\n",
              "  0.06642244756221771,\n",
              "  0.0679386630654335,\n",
              "  0.0664721205830574,\n",
              "  0.06820845603942871,\n",
              "  0.06700877100229263,\n",
              "  0.0670570656657219,\n",
              "  0.06678848713636398,\n",
              "  0.06776592135429382,\n",
              "  0.06736140698194504,\n",
              "  0.06878162175416946,\n",
              "  0.06870173662900925,\n",
              "  0.06891903281211853,\n",
              "  0.07065171748399734,\n",
              "  0.07049115002155304,\n",
              "  0.06928582489490509,\n",
              "  0.07090738415718079,\n",
              "  0.071171335875988,\n",
              "  0.0710495337843895],\n",
              " 'val_accuracy': [0.9800000190734863,\n",
              "  0.9771999716758728,\n",
              "  0.979200005531311,\n",
              "  0.9797999858856201,\n",
              "  0.980400025844574,\n",
              "  0.9765999913215637,\n",
              "  0.9811999797821045,\n",
              "  0.9810000061988831,\n",
              "  0.9805999994277954,\n",
              "  0.9815999865531921,\n",
              "  0.9815999865531921,\n",
              "  0.9801999926567078,\n",
              "  0.9800000190734863,\n",
              "  0.9807999730110168,\n",
              "  0.9811999797821045,\n",
              "  0.9811999797821045,\n",
              "  0.9810000061988831,\n",
              "  0.9815999865531921,\n",
              "  0.9819999933242798,\n",
              "  0.9814000129699707,\n",
              "  0.9814000129699707,\n",
              "  0.9797999858856201,\n",
              "  0.9814000129699707,\n",
              "  0.9811999797821045,\n",
              "  0.9800000190734863,\n",
              "  0.9807999730110168,\n",
              "  0.9807999730110168,\n",
              "  0.9805999994277954,\n",
              "  0.9797999858856201,\n",
              "  0.9807999730110168]}"
            ]
          },
          "metadata": {},
          "execution_count": 44
        }
      ]
    },
    {
      "cell_type": "code",
      "source": [
        "pd.DataFrame(history.history)"
      ],
      "metadata": {
        "colab": {
          "base_uri": "https://localhost:8080/",
          "height": 990
        },
        "id": "nUuwWFOkR6qI",
        "outputId": "2078b759-1941-4f6e-92a4-75ada1082b7a"
      },
      "execution_count": 45,
      "outputs": [
        {
          "output_type": "execute_result",
          "data": {
            "text/plain": [
              "        loss  accuracy  val_loss  val_accuracy\n",
              "0   0.029837  0.992473  0.068248        0.9800\n",
              "1   0.027043  0.993545  0.072849        0.9772\n",
              "2   0.024146  0.994582  0.069902        0.9792\n",
              "3   0.021655  0.994982  0.069110        0.9798\n",
              "4   0.019690  0.995982  0.067582        0.9804\n",
              "5   0.017402  0.996800  0.080509        0.9766\n",
              "6   0.015606  0.997218  0.067177        0.9812\n",
              "7   0.014192  0.997673  0.066163        0.9810\n",
              "8   0.012674  0.998091  0.069599        0.9806\n",
              "9   0.011722  0.998364  0.066015        0.9816\n",
              "10  0.010400  0.998891  0.066467        0.9816\n",
              "11  0.009640  0.998945  0.065713        0.9802\n",
              "12  0.008709  0.999145  0.066422        0.9800\n",
              "13  0.007988  0.999364  0.067939        0.9808\n",
              "14  0.007228  0.999473  0.066472        0.9812\n",
              "15  0.006741  0.999509  0.068208        0.9812\n",
              "16  0.006134  0.999618  0.067009        0.9810\n",
              "17  0.005634  0.999673  0.067057        0.9816\n",
              "18  0.005194  0.999764  0.066788        0.9820\n",
              "19  0.004833  0.999818  0.067766        0.9814\n",
              "20  0.004518  0.999855  0.067361        0.9814\n",
              "21  0.004173  0.999873  0.068782        0.9798\n",
              "22  0.003932  0.999891  0.068702        0.9814\n",
              "23  0.003609  0.999927  0.068919        0.9812\n",
              "24  0.003438  0.999927  0.070652        0.9800\n",
              "25  0.003239  0.999964  0.070491        0.9808\n",
              "26  0.003049  0.999927  0.069286        0.9808\n",
              "27  0.002870  0.999982  0.070907        0.9806\n",
              "28  0.002723  0.999982  0.071171        0.9798\n",
              "29  0.002597  1.000000  0.071050        0.9808"
            ],
            "text/html": [
              "\n",
              "  <div id=\"df-6db02eaf-a742-4df7-8893-d4c87f81e87b\" class=\"colab-df-container\">\n",
              "    <div>\n",
              "<style scoped>\n",
              "    .dataframe tbody tr th:only-of-type {\n",
              "        vertical-align: middle;\n",
              "    }\n",
              "\n",
              "    .dataframe tbody tr th {\n",
              "        vertical-align: top;\n",
              "    }\n",
              "\n",
              "    .dataframe thead th {\n",
              "        text-align: right;\n",
              "    }\n",
              "</style>\n",
              "<table border=\"1\" class=\"dataframe\">\n",
              "  <thead>\n",
              "    <tr style=\"text-align: right;\">\n",
              "      <th></th>\n",
              "      <th>loss</th>\n",
              "      <th>accuracy</th>\n",
              "      <th>val_loss</th>\n",
              "      <th>val_accuracy</th>\n",
              "    </tr>\n",
              "  </thead>\n",
              "  <tbody>\n",
              "    <tr>\n",
              "      <th>0</th>\n",
              "      <td>0.029837</td>\n",
              "      <td>0.992473</td>\n",
              "      <td>0.068248</td>\n",
              "      <td>0.9800</td>\n",
              "    </tr>\n",
              "    <tr>\n",
              "      <th>1</th>\n",
              "      <td>0.027043</td>\n",
              "      <td>0.993545</td>\n",
              "      <td>0.072849</td>\n",
              "      <td>0.9772</td>\n",
              "    </tr>\n",
              "    <tr>\n",
              "      <th>2</th>\n",
              "      <td>0.024146</td>\n",
              "      <td>0.994582</td>\n",
              "      <td>0.069902</td>\n",
              "      <td>0.9792</td>\n",
              "    </tr>\n",
              "    <tr>\n",
              "      <th>3</th>\n",
              "      <td>0.021655</td>\n",
              "      <td>0.994982</td>\n",
              "      <td>0.069110</td>\n",
              "      <td>0.9798</td>\n",
              "    </tr>\n",
              "    <tr>\n",
              "      <th>4</th>\n",
              "      <td>0.019690</td>\n",
              "      <td>0.995982</td>\n",
              "      <td>0.067582</td>\n",
              "      <td>0.9804</td>\n",
              "    </tr>\n",
              "    <tr>\n",
              "      <th>5</th>\n",
              "      <td>0.017402</td>\n",
              "      <td>0.996800</td>\n",
              "      <td>0.080509</td>\n",
              "      <td>0.9766</td>\n",
              "    </tr>\n",
              "    <tr>\n",
              "      <th>6</th>\n",
              "      <td>0.015606</td>\n",
              "      <td>0.997218</td>\n",
              "      <td>0.067177</td>\n",
              "      <td>0.9812</td>\n",
              "    </tr>\n",
              "    <tr>\n",
              "      <th>7</th>\n",
              "      <td>0.014192</td>\n",
              "      <td>0.997673</td>\n",
              "      <td>0.066163</td>\n",
              "      <td>0.9810</td>\n",
              "    </tr>\n",
              "    <tr>\n",
              "      <th>8</th>\n",
              "      <td>0.012674</td>\n",
              "      <td>0.998091</td>\n",
              "      <td>0.069599</td>\n",
              "      <td>0.9806</td>\n",
              "    </tr>\n",
              "    <tr>\n",
              "      <th>9</th>\n",
              "      <td>0.011722</td>\n",
              "      <td>0.998364</td>\n",
              "      <td>0.066015</td>\n",
              "      <td>0.9816</td>\n",
              "    </tr>\n",
              "    <tr>\n",
              "      <th>10</th>\n",
              "      <td>0.010400</td>\n",
              "      <td>0.998891</td>\n",
              "      <td>0.066467</td>\n",
              "      <td>0.9816</td>\n",
              "    </tr>\n",
              "    <tr>\n",
              "      <th>11</th>\n",
              "      <td>0.009640</td>\n",
              "      <td>0.998945</td>\n",
              "      <td>0.065713</td>\n",
              "      <td>0.9802</td>\n",
              "    </tr>\n",
              "    <tr>\n",
              "      <th>12</th>\n",
              "      <td>0.008709</td>\n",
              "      <td>0.999145</td>\n",
              "      <td>0.066422</td>\n",
              "      <td>0.9800</td>\n",
              "    </tr>\n",
              "    <tr>\n",
              "      <th>13</th>\n",
              "      <td>0.007988</td>\n",
              "      <td>0.999364</td>\n",
              "      <td>0.067939</td>\n",
              "      <td>0.9808</td>\n",
              "    </tr>\n",
              "    <tr>\n",
              "      <th>14</th>\n",
              "      <td>0.007228</td>\n",
              "      <td>0.999473</td>\n",
              "      <td>0.066472</td>\n",
              "      <td>0.9812</td>\n",
              "    </tr>\n",
              "    <tr>\n",
              "      <th>15</th>\n",
              "      <td>0.006741</td>\n",
              "      <td>0.999509</td>\n",
              "      <td>0.068208</td>\n",
              "      <td>0.9812</td>\n",
              "    </tr>\n",
              "    <tr>\n",
              "      <th>16</th>\n",
              "      <td>0.006134</td>\n",
              "      <td>0.999618</td>\n",
              "      <td>0.067009</td>\n",
              "      <td>0.9810</td>\n",
              "    </tr>\n",
              "    <tr>\n",
              "      <th>17</th>\n",
              "      <td>0.005634</td>\n",
              "      <td>0.999673</td>\n",
              "      <td>0.067057</td>\n",
              "      <td>0.9816</td>\n",
              "    </tr>\n",
              "    <tr>\n",
              "      <th>18</th>\n",
              "      <td>0.005194</td>\n",
              "      <td>0.999764</td>\n",
              "      <td>0.066788</td>\n",
              "      <td>0.9820</td>\n",
              "    </tr>\n",
              "    <tr>\n",
              "      <th>19</th>\n",
              "      <td>0.004833</td>\n",
              "      <td>0.999818</td>\n",
              "      <td>0.067766</td>\n",
              "      <td>0.9814</td>\n",
              "    </tr>\n",
              "    <tr>\n",
              "      <th>20</th>\n",
              "      <td>0.004518</td>\n",
              "      <td>0.999855</td>\n",
              "      <td>0.067361</td>\n",
              "      <td>0.9814</td>\n",
              "    </tr>\n",
              "    <tr>\n",
              "      <th>21</th>\n",
              "      <td>0.004173</td>\n",
              "      <td>0.999873</td>\n",
              "      <td>0.068782</td>\n",
              "      <td>0.9798</td>\n",
              "    </tr>\n",
              "    <tr>\n",
              "      <th>22</th>\n",
              "      <td>0.003932</td>\n",
              "      <td>0.999891</td>\n",
              "      <td>0.068702</td>\n",
              "      <td>0.9814</td>\n",
              "    </tr>\n",
              "    <tr>\n",
              "      <th>23</th>\n",
              "      <td>0.003609</td>\n",
              "      <td>0.999927</td>\n",
              "      <td>0.068919</td>\n",
              "      <td>0.9812</td>\n",
              "    </tr>\n",
              "    <tr>\n",
              "      <th>24</th>\n",
              "      <td>0.003438</td>\n",
              "      <td>0.999927</td>\n",
              "      <td>0.070652</td>\n",
              "      <td>0.9800</td>\n",
              "    </tr>\n",
              "    <tr>\n",
              "      <th>25</th>\n",
              "      <td>0.003239</td>\n",
              "      <td>0.999964</td>\n",
              "      <td>0.070491</td>\n",
              "      <td>0.9808</td>\n",
              "    </tr>\n",
              "    <tr>\n",
              "      <th>26</th>\n",
              "      <td>0.003049</td>\n",
              "      <td>0.999927</td>\n",
              "      <td>0.069286</td>\n",
              "      <td>0.9808</td>\n",
              "    </tr>\n",
              "    <tr>\n",
              "      <th>27</th>\n",
              "      <td>0.002870</td>\n",
              "      <td>0.999982</td>\n",
              "      <td>0.070907</td>\n",
              "      <td>0.9806</td>\n",
              "    </tr>\n",
              "    <tr>\n",
              "      <th>28</th>\n",
              "      <td>0.002723</td>\n",
              "      <td>0.999982</td>\n",
              "      <td>0.071171</td>\n",
              "      <td>0.9798</td>\n",
              "    </tr>\n",
              "    <tr>\n",
              "      <th>29</th>\n",
              "      <td>0.002597</td>\n",
              "      <td>1.000000</td>\n",
              "      <td>0.071050</td>\n",
              "      <td>0.9808</td>\n",
              "    </tr>\n",
              "  </tbody>\n",
              "</table>\n",
              "</div>\n",
              "    <div class=\"colab-df-buttons\">\n",
              "\n",
              "  <div class=\"colab-df-container\">\n",
              "    <button class=\"colab-df-convert\" onclick=\"convertToInteractive('df-6db02eaf-a742-4df7-8893-d4c87f81e87b')\"\n",
              "            title=\"Convert this dataframe to an interactive table.\"\n",
              "            style=\"display:none;\">\n",
              "\n",
              "  <svg xmlns=\"http://www.w3.org/2000/svg\" height=\"24px\" viewBox=\"0 -960 960 960\">\n",
              "    <path d=\"M120-120v-720h720v720H120Zm60-500h600v-160H180v160Zm220 220h160v-160H400v160Zm0 220h160v-160H400v160ZM180-400h160v-160H180v160Zm440 0h160v-160H620v160ZM180-180h160v-160H180v160Zm440 0h160v-160H620v160Z\"/>\n",
              "  </svg>\n",
              "    </button>\n",
              "\n",
              "  <style>\n",
              "    .colab-df-container {\n",
              "      display:flex;\n",
              "      gap: 12px;\n",
              "    }\n",
              "\n",
              "    .colab-df-convert {\n",
              "      background-color: #E8F0FE;\n",
              "      border: none;\n",
              "      border-radius: 50%;\n",
              "      cursor: pointer;\n",
              "      display: none;\n",
              "      fill: #1967D2;\n",
              "      height: 32px;\n",
              "      padding: 0 0 0 0;\n",
              "      width: 32px;\n",
              "    }\n",
              "\n",
              "    .colab-df-convert:hover {\n",
              "      background-color: #E2EBFA;\n",
              "      box-shadow: 0px 1px 2px rgba(60, 64, 67, 0.3), 0px 1px 3px 1px rgba(60, 64, 67, 0.15);\n",
              "      fill: #174EA6;\n",
              "    }\n",
              "\n",
              "    .colab-df-buttons div {\n",
              "      margin-bottom: 4px;\n",
              "    }\n",
              "\n",
              "    [theme=dark] .colab-df-convert {\n",
              "      background-color: #3B4455;\n",
              "      fill: #D2E3FC;\n",
              "    }\n",
              "\n",
              "    [theme=dark] .colab-df-convert:hover {\n",
              "      background-color: #434B5C;\n",
              "      box-shadow: 0px 1px 3px 1px rgba(0, 0, 0, 0.15);\n",
              "      filter: drop-shadow(0px 1px 2px rgba(0, 0, 0, 0.3));\n",
              "      fill: #FFFFFF;\n",
              "    }\n",
              "  </style>\n",
              "\n",
              "    <script>\n",
              "      const buttonEl =\n",
              "        document.querySelector('#df-6db02eaf-a742-4df7-8893-d4c87f81e87b button.colab-df-convert');\n",
              "      buttonEl.style.display =\n",
              "        google.colab.kernel.accessAllowed ? 'block' : 'none';\n",
              "\n",
              "      async function convertToInteractive(key) {\n",
              "        const element = document.querySelector('#df-6db02eaf-a742-4df7-8893-d4c87f81e87b');\n",
              "        const dataTable =\n",
              "          await google.colab.kernel.invokeFunction('convertToInteractive',\n",
              "                                                    [key], {});\n",
              "        if (!dataTable) return;\n",
              "\n",
              "        const docLinkHtml = 'Like what you see? Visit the ' +\n",
              "          '<a target=\"_blank\" href=https://colab.research.google.com/notebooks/data_table.ipynb>data table notebook</a>'\n",
              "          + ' to learn more about interactive tables.';\n",
              "        element.innerHTML = '';\n",
              "        dataTable['output_type'] = 'display_data';\n",
              "        await google.colab.output.renderOutput(dataTable, element);\n",
              "        const docLink = document.createElement('div');\n",
              "        docLink.innerHTML = docLinkHtml;\n",
              "        element.appendChild(docLink);\n",
              "      }\n",
              "    </script>\n",
              "  </div>\n",
              "\n",
              "\n",
              "<div id=\"df-74f8f87f-4ec2-4d7d-b5d3-435591931fcb\">\n",
              "  <button class=\"colab-df-quickchart\" onclick=\"quickchart('df-74f8f87f-4ec2-4d7d-b5d3-435591931fcb')\"\n",
              "            title=\"Suggest charts.\"\n",
              "            style=\"display:none;\">\n",
              "\n",
              "<svg xmlns=\"http://www.w3.org/2000/svg\" height=\"24px\"viewBox=\"0 0 24 24\"\n",
              "     width=\"24px\">\n",
              "    <g>\n",
              "        <path d=\"M19 3H5c-1.1 0-2 .9-2 2v14c0 1.1.9 2 2 2h14c1.1 0 2-.9 2-2V5c0-1.1-.9-2-2-2zM9 17H7v-7h2v7zm4 0h-2V7h2v10zm4 0h-2v-4h2v4z\"/>\n",
              "    </g>\n",
              "</svg>\n",
              "  </button>\n",
              "\n",
              "<style>\n",
              "  .colab-df-quickchart {\n",
              "      --bg-color: #E8F0FE;\n",
              "      --fill-color: #1967D2;\n",
              "      --hover-bg-color: #E2EBFA;\n",
              "      --hover-fill-color: #174EA6;\n",
              "      --disabled-fill-color: #AAA;\n",
              "      --disabled-bg-color: #DDD;\n",
              "  }\n",
              "\n",
              "  [theme=dark] .colab-df-quickchart {\n",
              "      --bg-color: #3B4455;\n",
              "      --fill-color: #D2E3FC;\n",
              "      --hover-bg-color: #434B5C;\n",
              "      --hover-fill-color: #FFFFFF;\n",
              "      --disabled-bg-color: #3B4455;\n",
              "      --disabled-fill-color: #666;\n",
              "  }\n",
              "\n",
              "  .colab-df-quickchart {\n",
              "    background-color: var(--bg-color);\n",
              "    border: none;\n",
              "    border-radius: 50%;\n",
              "    cursor: pointer;\n",
              "    display: none;\n",
              "    fill: var(--fill-color);\n",
              "    height: 32px;\n",
              "    padding: 0;\n",
              "    width: 32px;\n",
              "  }\n",
              "\n",
              "  .colab-df-quickchart:hover {\n",
              "    background-color: var(--hover-bg-color);\n",
              "    box-shadow: 0 1px 2px rgba(60, 64, 67, 0.3), 0 1px 3px 1px rgba(60, 64, 67, 0.15);\n",
              "    fill: var(--button-hover-fill-color);\n",
              "  }\n",
              "\n",
              "  .colab-df-quickchart-complete:disabled,\n",
              "  .colab-df-quickchart-complete:disabled:hover {\n",
              "    background-color: var(--disabled-bg-color);\n",
              "    fill: var(--disabled-fill-color);\n",
              "    box-shadow: none;\n",
              "  }\n",
              "\n",
              "  .colab-df-spinner {\n",
              "    border: 2px solid var(--fill-color);\n",
              "    border-color: transparent;\n",
              "    border-bottom-color: var(--fill-color);\n",
              "    animation:\n",
              "      spin 1s steps(1) infinite;\n",
              "  }\n",
              "\n",
              "  @keyframes spin {\n",
              "    0% {\n",
              "      border-color: transparent;\n",
              "      border-bottom-color: var(--fill-color);\n",
              "      border-left-color: var(--fill-color);\n",
              "    }\n",
              "    20% {\n",
              "      border-color: transparent;\n",
              "      border-left-color: var(--fill-color);\n",
              "      border-top-color: var(--fill-color);\n",
              "    }\n",
              "    30% {\n",
              "      border-color: transparent;\n",
              "      border-left-color: var(--fill-color);\n",
              "      border-top-color: var(--fill-color);\n",
              "      border-right-color: var(--fill-color);\n",
              "    }\n",
              "    40% {\n",
              "      border-color: transparent;\n",
              "      border-right-color: var(--fill-color);\n",
              "      border-top-color: var(--fill-color);\n",
              "    }\n",
              "    60% {\n",
              "      border-color: transparent;\n",
              "      border-right-color: var(--fill-color);\n",
              "    }\n",
              "    80% {\n",
              "      border-color: transparent;\n",
              "      border-right-color: var(--fill-color);\n",
              "      border-bottom-color: var(--fill-color);\n",
              "    }\n",
              "    90% {\n",
              "      border-color: transparent;\n",
              "      border-bottom-color: var(--fill-color);\n",
              "    }\n",
              "  }\n",
              "</style>\n",
              "\n",
              "  <script>\n",
              "    async function quickchart(key) {\n",
              "      const quickchartButtonEl =\n",
              "        document.querySelector('#' + key + ' button');\n",
              "      quickchartButtonEl.disabled = true;  // To prevent multiple clicks.\n",
              "      quickchartButtonEl.classList.add('colab-df-spinner');\n",
              "      try {\n",
              "        const charts = await google.colab.kernel.invokeFunction(\n",
              "            'suggestCharts', [key], {});\n",
              "      } catch (error) {\n",
              "        console.error('Error during call to suggestCharts:', error);\n",
              "      }\n",
              "      quickchartButtonEl.classList.remove('colab-df-spinner');\n",
              "      quickchartButtonEl.classList.add('colab-df-quickchart-complete');\n",
              "    }\n",
              "    (() => {\n",
              "      let quickchartButtonEl =\n",
              "        document.querySelector('#df-74f8f87f-4ec2-4d7d-b5d3-435591931fcb button');\n",
              "      quickchartButtonEl.style.display =\n",
              "        google.colab.kernel.accessAllowed ? 'block' : 'none';\n",
              "    })();\n",
              "  </script>\n",
              "</div>\n",
              "    </div>\n",
              "  </div>\n"
            ]
          },
          "metadata": {},
          "execution_count": 45
        }
      ]
    },
    {
      "cell_type": "code",
      "source": [
        "pd.DataFrame(history.history).plot(figsize=(5,5))\n",
        "plt.grid(True)\n",
        "plt.show()"
      ],
      "metadata": {
        "colab": {
          "base_uri": "https://localhost:8080/",
          "height": 445
        },
        "id": "GoFcbdZmSCR8",
        "outputId": "9f0b4b4e-0993-4dc3-f0d3-732a6322a228"
      },
      "execution_count": 49,
      "outputs": [
        {
          "output_type": "display_data",
          "data": {
            "text/plain": [
              "<Figure size 500x500 with 1 Axes>"
            ],
            "image/png": "[encoded data removed]"
          },
          "metadata": {}
        }
      ]
    },
    {
      "cell_type": "code",
      "source": [
        "model.evaluate(X_test, y_test)"
      ],
      "metadata": {
        "colab": {
          "base_uri": "https://localhost:8080/"
        },
        "id": "7Wk7y9K0SU09",
        "outputId": "24fe7320-33f1-406b-d420-4b7b67e00127"
      },
      "execution_count": 50,
      "outputs": [
        {
          "output_type": "stream",
          "name": "stdout",
          "text": [
            "313/313 [==============================] - 2s 5ms/step - loss: 0.0736 - accuracy: 0.9810\n"
          ]
        },
        {
          "output_type": "execute_result",
          "data": {
            "text/plain": [
              "[0.07358214259147644, 0.9810000061988831]"
            ]
          },
          "metadata": {},
          "execution_count": 50
        }
      ]
    },
    {
      "cell_type": "code",
      "source": [
        "(10000/32) #10000data, 32batchsize"
      ],
      "metadata": {
        "colab": {
          "base_uri": "https://localhost:8080/"
        },
        "id": "K9YgKSlVS2Bb",
        "outputId": "642e2a7e-47a2-41a1-b1fc-fb0b309045ad"
      },
      "execution_count": 52,
      "outputs": [
        {
          "output_type": "execute_result",
          "data": {
            "text/plain": [
              "312.5"
            ]
          },
          "metadata": {},
          "execution_count": 52
        }
      ]
    },
    {
      "cell_type": "code",
      "source": [
        "model.save('model.h5')"
      ],
      "metadata": {
        "colab": {
          "base_uri": "https://localhost:8080/"
        },
        "id": "3obu1RCiS7Gw",
        "outputId": "360ae0df-44b4-415a-aa17-99a10f47a38f"
      },
      "execution_count": 53,
      "outputs": [
        {
          "output_type": "stream",
          "name": "stderr",
          "text": [
            "/usr/local/lib/python3.10/dist-packages/keras/src/engine/training.py:3000: UserWarning: You are saving your model as an HDF5 file via `model.save()`. This file format is considered legacy. We recommend using instead the native Keras format, e.g. `model.save('my_model.keras')`.\n",
            "  saving_api.save_model(\n"
          ]
        }
      ]
    },
    {
      "cell_type": "code",
      "source": [
        "#checking for new data point\n",
        "X_new = X_test[:3]\n",
        "y_prob = model.predict(X_new)\n",
        "y_prob         #this returns probability value because we used softmat"
      ],
      "metadata": {
        "colab": {
          "base_uri": "https://localhost:8080/"
        },
        "id": "1DsDM3ZxTQnP",
        "outputId": "1a70902e-1976-4892-8967-393454c16369"
      },
      "execution_count": 54,
      "outputs": [
        {
          "output_type": "stream",
          "name": "stdout",
          "text": [
            "1/1 [==============================] - 0s 163ms/step\n"
          ]
        },
        {
          "output_type": "execute_result",
          "data": {
            "text/plain": [
              "array([[4.5036841e-10, 2.4228453e-10, 2.5921819e-08, 4.9144460e-06,\n",
              "        1.5255051e-12, 8.5776455e-11, 2.3795133e-16, 9.9999511e-01,\n",
              "        2.2865258e-10, 1.3857468e-08],\n",
              "       [2.3456623e-10, 4.2305703e-07, 9.9999952e-01, 3.6164302e-08,\n",
              "        2.0357084e-18, 2.4604073e-12, 1.7876814e-10, 1.0259988e-19,\n",
              "        2.8800418e-09, 1.1872314e-20],\n",
              "       [7.4272052e-08, 9.9981695e-01, 6.6638722e-06, 2.5478577e-08,\n",
              "        2.8148492e-05, 9.6216297e-07, 2.7495801e-07, 1.2279692e-05,\n",
              "        1.3461283e-04, 4.4472692e-08]], dtype=float32)"
            ]
          },
          "metadata": {},
          "execution_count": 54
        }
      ]
    },
    {
      "cell_type": "code",
      "source": [
        "#checking for new data point\n",
        "X_new = X_test[:3]\n",
        "y_prob = model.predict(X_new)\n",
        "y_prob.round(3)"
      ],
      "metadata": {
        "colab": {
          "base_uri": "https://localhost:8080/"
        },
        "id": "60iCa8BhTwQG",
        "outputId": "726d747a-e961-41d5-8c7b-efb581bfb48c"
      },
      "execution_count": 55,
      "outputs": [
        {
          "output_type": "stream",
          "name": "stdout",
          "text": [
            "1/1 [==============================] - 0s 34ms/step\n"
          ]
        },
        {
          "output_type": "execute_result",
          "data": {
            "text/plain": [
              "array([[0., 0., 0., 0., 0., 0., 0., 1., 0., 0.],\n",
              "       [0., 0., 1., 0., 0., 0., 0., 0., 0., 0.],\n",
              "       [0., 1., 0., 0., 0., 0., 0., 0., 0., 0.]], dtype=float32)"
            ]
          },
          "metadata": {},
          "execution_count": 55
        }
      ]
    },
    {
      "cell_type": "code",
      "source": [
        "#checking for x_new first value\n",
        "plt.imshow(X_new[0], cmap='gray')"
      ],
      "metadata": {
        "colab": {
          "base_uri": "https://localhost:8080/",
          "height": 447
        },
        "id": "UfmAIcPuUHK6",
        "outputId": "f96324f6-2516-4ad3-fd4c-50ef8425a720"
      },
      "execution_count": 56,
      "outputs": [
        {
          "output_type": "execute_result",
          "data": {
            "text/plain": [
              "<matplotlib.image.AxesImage at 0x78e1bcf2ea70>"
            ]
          },
          "metadata": {},
          "execution_count": 56
        },
        {
          "output_type": "display_data",
          "data": {
            "text/plain": [
              "<Figure size 640x480 with 1 Axes>"
            ],
            "image/png": "[encoded data removed]"
          },
          "metadata": {}
        }
      ]
    },
    {
      "cell_type": "markdown",
      "source": [
        "my model predicted first output correctly"
      ],
      "metadata": {
        "id": "zk_GsU95Uh6N"
      }
    },
    {
      "cell_type": "code",
      "source": [
        "y_pred = np.argmax(y_prob, axis=-1)\n",
        "y_pred"
      ],
      "metadata": {
        "colab": {
          "base_uri": "https://localhost:8080/"
        },
        "id": "7505_khRUcbl",
        "outputId": "dfc1edc0-ac01-418a-90d9-89018aeab35c"
      },
      "execution_count": 58,
      "outputs": [
        {
          "output_type": "execute_result",
          "data": {
            "text/plain": [
              "array([7, 2, 1])"
            ]
          },
          "metadata": {},
          "execution_count": 58
        }
      ]
    },
    {
      "cell_type": "code",
      "source": [
        "for img_array,pred,actual in zip(X_new, y_pred, y_test[:3]):\n",
        "  plt.imshow(img_array, cmap='gray')\n",
        "  plt.title(f'predicted{pred} and acutal{actual}')\n",
        "  plt.axis('off')\n",
        "  plt.show()\n",
        "  print('--'*30)\n"
      ],
      "metadata": {
        "colab": {
          "base_uri": "https://localhost:8080/",
          "height": 1000
        },
        "id": "cl7rWGxlVDD3",
        "outputId": "368753c5-7e53-498b-c4c6-5e0cd41c7196"
      },
      "execution_count": 64,
      "outputs": [
        {
          "output_type": "display_data",
          "data": {
            "text/plain": [
              "<Figure size 640x480 with 1 Axes>"
            ],
            "image/png": "[encoded data removed]"
          },
          "metadata": {}
        },
        {
          "output_type": "stream",
          "name": "stdout",
          "text": [
            "------------------------------------------------------------\n"
          ]
        },
        {
          "output_type": "display_data",
          "data": {
            "text/plain": [
              "<Figure size 640x480 with 1 Axes>"
            ],
            "image/png": "[encoded data removed]"
          },
          "metadata": {}
        },
        {
          "output_type": "stream",
          "name": "stdout",
          "text": [
            "------------------------------------------------------------\n"
          ]
        },
        {
          "output_type": "display_data",
          "data": {
            "text/plain": [
              "<Figure size 640x480 with 1 Axes>"
            ],
            "image/png": "[encoded data removed]"
          },
          "metadata": {}
        },
        {
          "output_type": "stream",
          "name": "stdout",
          "text": [
            "------------------------------------------------------------\n"
          ]
        }
      ]
    },
    {
      "cell_type": "code",
      "source": [],
      "metadata": {
        "id": "A1riFTUmW4xv"
      },
      "execution_count": null,
      "outputs": []
    }
  ]
}